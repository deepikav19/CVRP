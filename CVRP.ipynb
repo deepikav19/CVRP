{
  "nbformat": 4,
  "nbformat_minor": 0,
  "metadata": {
    "colab": {
      "name": "CVRP.ipynb",
      "provenance": [],
      "collapsed_sections": []
    },
    "kernelspec": {
      "name": "python3",
      "display_name": "Python 3"
    },
    "language_info": {
      "name": "python"
    }
  },
  "cells": [
    {
      "cell_type": "code",
      "metadata": {
        "colab": {
          "base_uri": "https://localhost:8080/"
        },
        "id": "mO1vRM6Da1Nx",
        "outputId": "d703e5e8-0a26-48dd-972c-dec0450faa71"
      },
      "source": [
        "ls"
      ],
      "execution_count": 1,
      "outputs": [
        {
          "output_type": "stream",
          "name": "stdout",
          "text": [
            "input_data  input_data2  \u001b[0m\u001b[01;34msample_data\u001b[0m/\n"
          ]
        }
      ]
    },
    {
      "cell_type": "code",
      "metadata": {
        "id": "68hI2tgma3Dn"
      },
      "source": [
        "import pandas as pd\n",
        "import numpy as np\n",
        "import math\n",
        "import matplotlib.pyplot as plt\n",
        "\n",
        "plt.style.use('ggplot')\n",
        "input_data = pd.read_csv('input_data', delimiter = ' ', names = ['index', 'x', 'y'])"
      ],
      "execution_count": 2,
      "outputs": []
    },
    {
      "cell_type": "code",
      "source": [
        "input_data.head()"
      ],
      "metadata": {
        "colab": {
          "base_uri": "https://localhost:8080/",
          "height": 206
        },
        "id": "cs3Yux6X8Lsl",
        "outputId": "52475216-8928-4fe7-aefc-7808f0fedc17"
      },
      "execution_count": 3,
      "outputs": [
        {
          "output_type": "execute_result",
          "data": {
            "text/html": [
              "<div>\n",
              "<style scoped>\n",
              "    .dataframe tbody tr th:only-of-type {\n",
              "        vertical-align: middle;\n",
              "    }\n",
              "\n",
              "    .dataframe tbody tr th {\n",
              "        vertical-align: top;\n",
              "    }\n",
              "\n",
              "    .dataframe thead th {\n",
              "        text-align: right;\n",
              "    }\n",
              "</style>\n",
              "<table border=\"1\" class=\"dataframe\">\n",
              "  <thead>\n",
              "    <tr style=\"text-align: right;\">\n",
              "      <th></th>\n",
              "      <th>index</th>\n",
              "      <th>x</th>\n",
              "      <th>y</th>\n",
              "    </tr>\n",
              "  </thead>\n",
              "  <tbody>\n",
              "    <tr>\n",
              "      <th>0</th>\n",
              "      <td>1</td>\n",
              "      <td>82</td>\n",
              "      <td>76</td>\n",
              "    </tr>\n",
              "    <tr>\n",
              "      <th>1</th>\n",
              "      <td>2</td>\n",
              "      <td>96</td>\n",
              "      <td>44</td>\n",
              "    </tr>\n",
              "    <tr>\n",
              "      <th>2</th>\n",
              "      <td>3</td>\n",
              "      <td>50</td>\n",
              "      <td>5</td>\n",
              "    </tr>\n",
              "    <tr>\n",
              "      <th>3</th>\n",
              "      <td>4</td>\n",
              "      <td>49</td>\n",
              "      <td>8</td>\n",
              "    </tr>\n",
              "    <tr>\n",
              "      <th>4</th>\n",
              "      <td>5</td>\n",
              "      <td>13</td>\n",
              "      <td>7</td>\n",
              "    </tr>\n",
              "  </tbody>\n",
              "</table>\n",
              "</div>"
            ],
            "text/plain": [
              "   index   x   y\n",
              "0      1  82  76\n",
              "1      2  96  44\n",
              "2      3  50   5\n",
              "3      4  49   8\n",
              "4      5  13   7"
            ]
          },
          "metadata": {},
          "execution_count": 3
        }
      ]
    },
    {
      "cell_type": "code",
      "metadata": {
        "id": "XGpmeu53cZ7f"
      },
      "source": [
        "def get_angle(x,y):\n",
        "    x_0 = input_data.iloc[0]['x']\n",
        "    y_0 = input_data.iloc[1]['x']\n",
        "    \n",
        "    slope = (y - y_0)/(x - x_0)\n",
        "    return slope\n",
        "\n",
        "def distance(x1, y1, x2, y2):\n",
        "    #print(\"Finding distance between (\"+str(x1)+\",\"+str(y1)+\") and \"+\"(\"+str(x2)+\",\"+str(y2)+\")\")\n",
        "    dist = math.sqrt(pow((x2 - x1),2) + pow((y2 - y1),2))\n",
        "    return dist\n",
        "\n",
        "\n",
        "def find_cost(array_x, array_y):\n",
        "    first_x = array_x[0]\n",
        "    first_y = array_y[0]\n",
        "    first = 1\n",
        "    total_dist = 0\n",
        "    cost = 0\n",
        "    for i in range(0, len(array_x)):\n",
        "        x1 = array_x[i]\n",
        "        y1 = array_y[i]\n",
        "\n",
        "        if first == 1:\n",
        "                dist = distance(x1, y1, first_x, first_y)\n",
        "                first = 0\n",
        "        else:\n",
        "                dist = distance(x1, y1, x2_prev, y2_prev)\n",
        "        x2_prev = x1\n",
        "        y2_prev = y1\n",
        "        total_dist = total_dist + dist\n",
        "    return total_dist\n",
        "\n",
        "\n",
        "def plot_routes(routes):\n",
        "    plt.scatter(input_data['x'], input_data['y'])\n",
        "\n",
        "\n",
        "    r2x = []\n",
        "    r2y = []\n",
        "    total_route_cost = 0\n",
        "    x_for_route = []\n",
        "    y_for_route = []\n",
        "    \n",
        "    count=0\n",
        "    colors=['r','g','b','y','c']\n",
        "    for item in routes:\n",
        "        for i in item:\n",
        "            r2x.append(input_data.iloc[i]['x'])\n",
        "            r2y.append(input_data.iloc[i]['y'])\n",
        "            plt.annotate(i, # this is the text\n",
        "             (input_data.iloc[i]['x'],input_data.iloc[i]['y']), # these are the coordinates to position the label\n",
        "             textcoords=\"offset points\", # how to position the text\n",
        "             xytext=(0,-10), # distance from text to points (x,y)\n",
        "             ha='center') \n",
        "        plt.plot(r2x, r2y, color=colors[count])\n",
        "\n",
        "        cost = find_cost(r2x, r2y)\n",
        "        total_route_cost += cost\n",
        "        print(\"\\nCost for this path = \", cost)\n",
        "        r2x=[]\n",
        "        r2y=[]\n",
        "        count += 1\n",
        "    print(\"Fitness = \", total_route_cost)\n",
        "    plt.show()"
      ],
      "execution_count": 4,
      "outputs": []
    },
    {
      "cell_type": "code",
      "metadata": {
        "colab": {
          "base_uri": "https://localhost:8080/",
          "height": 457
        },
        "id": "j4fmE2rqcjFB",
        "outputId": "07cb6963-86a6-4acb-8534-1f9befdff3e5"
      },
      "source": [
        "#routes = [[21, 31, 19, 17, 13, 7, 26, 0, 21], [12,1,16,30, 0, 12], [27, 24, 0, 27], [29, 18,8,9,22,15,10,25,5,20, 0, 29], [14,28,11,4,23,3,2,6, 0, 14]]\n",
        "routes = [[19,20,21,4,5,6], [13,14,15,10,11,12], [1,2,9,16,17,18], [25,26,27,22,23,24], [7,8,3,28,29,30,31]]\n",
        "# sort routes according to the polar angles\n",
        "angle_index_map = {}\n",
        "for i in range(1, 32):\n",
        "    angle = get_angle(input_data.iloc[i]['x'], input_data.iloc[i]['y'])\n",
        "    #print(\"Angle for \"+str(i)+\" is \"+str(angle))\n",
        "    angle_index_map[angle] = i\n",
        "    pass\n",
        "for key in sorted(angle_index_map):\n",
        "    print(angle_index_map[key],end=\",\")\n",
        "# routes = []\n",
        "\n",
        "# routes = get_initial_state()\n",
        "routes = [[13,7,30,16,19,17],[31,21,1,12],[20,25,5,10,15,29,22,9],[18,8,27,11,4,28],[24,14,23,3,6,2,26]]\n",
        "#routes = [[13,7,30,16,19,17],[10,21,1,12],[20,25,5,15,29,22,9],[18,8,27,11,4,28],[24,14,23,3,6,2,26]]\n",
        "\n",
        "\n",
        "# while True:\n",
        "#     routes = generate_route()\n",
        "    \n",
        "\n",
        "#routes = [[1,2,3,4,5,6],[7,8,9,10,11,12],[13,14,15,16,17,18],[19,20,21,22,23,24],[25,26,27,28,29,30,31]]\n",
        "#routes = [[31,21,1,12,25,20,0,31]]\n",
        "plot_routes(routes)\n",
        "# 2opt, 1opt, 3opt"
      ],
      "execution_count": 5,
      "outputs": [
        {
          "output_type": "stream",
          "name": "stdout",
          "text": [
            "13,7,30,17,19,16,31,21,1,12,25,20,5,10,15,29,22,9,18,8,27,11,4,28,24,14,23,3,6,2,26,\n",
            "Cost for this path =  95.00641104768819\n",
            "\n",
            "Cost for this path =  47.31280400798114\n",
            "\n",
            "Cost for this path =  162.43266962097115\n",
            "\n",
            "Cost for this path =  171.67046959474862\n",
            "\n",
            "Cost for this path =  171.88744138640664\n",
            "Fitness =  648.3097956577958\n"
          ]
        },
        {
          "output_type": "display_data",
          "data": {
            "image/png": "[encoded data removed]",
            "text/plain": [
              "<Figure size 432x288 with 1 Axes>"
            ]
          },
          "metadata": {}
        }
      ]
    },
    {
      "cell_type": "code",
      "source": [
        "CAPACITY_OF_VEHICLE = 7 #common for all vehicles\n",
        "NUMBER_OF_VEHICLES = 5"
      ],
      "metadata": {
        "id": "-vl3rWAp-_BL"
      },
      "execution_count": 6,
      "outputs": []
    },
    {
      "cell_type": "code",
      "source": [
        "capacities = [1 for i in range(0,32)] #problem statement says capacity to be 1.\n",
        "#capacities"
      ],
      "metadata": {
        "id": "F1z1guRx_GK-"
      },
      "execution_count": 7,
      "outputs": []
    },
    {
      "cell_type": "code",
      "source": [
        "angle_sorted = [angle_index_map[key] for key in sorted(angle_index_map)]"
      ],
      "metadata": {
        "id": "SAmy0K3zEtuZ"
      },
      "execution_count": 8,
      "outputs": []
    },
    {
      "cell_type": "code",
      "source": [
        "angle_sorted"
      ],
      "metadata": {
        "colab": {
          "base_uri": "https://localhost:8080/"
        },
        "id": "kRXcdV67IzRX",
        "outputId": "ed477c94-bb30-4a52-9ebe-5b47e38e632e"
      },
      "execution_count": 9,
      "outputs": [
        {
          "output_type": "execute_result",
          "data": {
            "text/plain": [
              "[13,\n",
              " 7,\n",
              " 30,\n",
              " 17,\n",
              " 19,\n",
              " 16,\n",
              " 31,\n",
              " 21,\n",
              " 1,\n",
              " 12,\n",
              " 25,\n",
              " 20,\n",
              " 5,\n",
              " 10,\n",
              " 15,\n",
              " 29,\n",
              " 22,\n",
              " 9,\n",
              " 18,\n",
              " 8,\n",
              " 27,\n",
              " 11,\n",
              " 4,\n",
              " 28,\n",
              " 24,\n",
              " 14,\n",
              " 23,\n",
              " 3,\n",
              " 6,\n",
              " 2,\n",
              " 26]"
            ]
          },
          "metadata": {},
          "execution_count": 9
        }
      ]
    },
    {
      "cell_type": "code",
      "source": [
        "group_size = []\n",
        "size = len(angle_sorted) // NUMBER_OF_VEHICLES\n",
        "vehicles_to_assign = len(angle_sorted) \n",
        "while vehicles_to_assign > size :\n",
        "  group_size.append(size)\n",
        "  vehicles_to_assign = vehicles_to_assign - size\n",
        "if vehicles_to_assign > 0 :\n",
        "  for i in range(0,vehicles_to_assign):\n",
        "    group_size[i] = group_size[i] + 1\n",
        "group_size\n"
      ],
      "metadata": {
        "colab": {
          "base_uri": "https://localhost:8080/"
        },
        "id": "0e-yiVZtDyiw",
        "outputId": "5c8c1c24-0828-4ce0-9337-20a550db4b63"
      },
      "execution_count": 10,
      "outputs": [
        {
          "output_type": "execute_result",
          "data": {
            "text/plain": [
              "[7, 6, 6, 6, 6]"
            ]
          },
          "metadata": {},
          "execution_count": 10
        }
      ]
    },
    {
      "cell_type": "code",
      "source": [
        "capacited_routes = []\n",
        "\n",
        "def generate_capacited_segments_of_routes(angle_sorted):\n",
        "  start_index = 0\n",
        "  for i in range(0, len(group_size)):\n",
        "    capacity_till_now = 0\n",
        "    j = start_index\n",
        "    capacity_exceeded = False\n",
        "    \n",
        "    while j < start_index+group_size[i]:\n",
        "        if capacity_till_now + capacities[angle_sorted[j]] > CAPACITY_OF_VEHICLE:\n",
        "          capacity_till_now = 0\n",
        "          capacited_routes.append(angle_sorted[start_index:j+1])\n",
        "          if j < group_size[i]-1:\n",
        "            capacity_exceeded = True\n",
        "            group_size[i+1] = group_size[i+1] + group_size[i] - j\n",
        "          start_index= j + 1\n",
        "          break\n",
        "        else:\n",
        "          capacity_till_now = capacity_till_now + capacities[angle_sorted[j]]\n",
        "          j = j + 1\n",
        "    \n",
        "    if not capacity_exceeded:\n",
        "      capacited_routes.append(angle_sorted[start_index:j])\n",
        "      start_index = j\n",
        "\n",
        "          \n",
        "\n",
        "print(angle_sorted)\n",
        "\n",
        "\n",
        "generate_capacited_segments_of_routes(angle_sorted)    \n",
        "\n",
        "\n",
        "capacited_routes\n",
        "\n",
        "\n",
        "  \n"
      ],
      "metadata": {
        "colab": {
          "base_uri": "https://localhost:8080/"
        },
        "id": "yVoTn1Bc-t3b",
        "outputId": "8f009d71-578a-483d-c0a4-b62035388f70"
      },
      "execution_count": 11,
      "outputs": [
        {
          "output_type": "stream",
          "name": "stdout",
          "text": [
            "[13, 7, 30, 17, 19, 16, 31, 21, 1, 12, 25, 20, 5, 10, 15, 29, 22, 9, 18, 8, 27, 11, 4, 28, 24, 14, 23, 3, 6, 2, 26]\n"
          ]
        },
        {
          "output_type": "execute_result",
          "data": {
            "text/plain": [
              "[[13, 7, 30, 17, 19, 16, 31],\n",
              " [21, 1, 12, 25, 20, 5],\n",
              " [10, 15, 29, 22, 9, 18],\n",
              " [8, 27, 11, 4, 28, 24],\n",
              " [14, 23, 3, 6, 2, 26]]"
            ]
          },
          "metadata": {},
          "execution_count": 11
        }
      ]
    },
    {
      "cell_type": "code",
      "source": [
        "#run genetic algorithm"
      ],
      "metadata": {
        "id": "4AMTeIHmMlnx"
      },
      "execution_count": 12,
      "outputs": []
    },
    {
      "cell_type": "code",
      "source": [
        "import random\n",
        "import itertools"
      ],
      "metadata": {
        "id": "_-fTgWqfNav6"
      },
      "execution_count": 13,
      "outputs": []
    },
    {
      "cell_type": "code",
      "source": [
        "\n",
        "def createRoute(cityList):\n",
        "        return itertools.permutations(cityList)"
      ],
      "metadata": {
        "id": "sYk6STuCNVh2"
      },
      "execution_count": 14,
      "outputs": []
    },
    {
      "cell_type": "code",
      "source": [
        "print(createRoute([13, 7, 30, 17, 19, 16, 31]))"
      ],
      "metadata": {
        "colab": {
          "base_uri": "https://localhost:8080/"
        },
        "id": "8pkZZg_cNbhb",
        "outputId": "442de9ad-a27e-4bed-b634-c6b1cbb0bd53"
      },
      "execution_count": 15,
      "outputs": [
        {
          "output_type": "stream",
          "name": "stdout",
          "text": [
            "<itertools.permutations object at 0x7f365c598470>\n"
          ]
        }
      ]
    },
    {
      "cell_type": "code",
      "source": [
        "#create initial population\n",
        "import itertools\n",
        "import random\n",
        "def createInitialPopulation(popSize, cities):\n",
        "      population = []\n",
        "      permutations = list(itertools.permutations(cities))\n",
        "      for i in range(0, popSize):\n",
        "          population.append(list(permutations[random.randint(0, len(permutations)-2)]))\n",
        "      return population"
      ],
      "metadata": {
        "id": "XTdz8DroNPTC"
      },
      "execution_count": 16,
      "outputs": []
    },
    {
      "cell_type": "code",
      "source": [
        "createInitialPopulation(100,[13, 7, 30, 17, 19, 16, 31])"
      ],
      "metadata": {
        "id": "xnLDVXGjNoDD",
        "colab": {
          "base_uri": "https://localhost:8080/"
        },
        "outputId": "dd017b2d-d459-49ad-e5af-1becae1c0a01"
      },
      "execution_count": 17,
      "outputs": [
        {
          "output_type": "execute_result",
          "data": {
            "text/plain": [
              "[[31, 19, 16, 7, 13, 30, 17],\n",
              " [16, 19, 31, 30, 13, 17, 7],\n",
              " [16, 31, 30, 19, 17, 13, 7],\n",
              " [17, 31, 7, 13, 19, 30, 16],\n",
              " [17, 13, 19, 30, 7, 16, 31],\n",
              " [31, 7, 16, 17, 19, 13, 30],\n",
              " [13, 16, 7, 17, 30, 31, 19],\n",
              " [13, 19, 17, 31, 16, 7, 30],\n",
              " [17, 13, 31, 19, 7, 16, 30],\n",
              " [7, 31, 16, 19, 30, 17, 13],\n",
              " [7, 13, 17, 31, 30, 19, 16],\n",
              " [16, 7, 17, 31, 13, 19, 30],\n",
              " [13, 7, 16, 31, 17, 19, 30],\n",
              " [31, 7, 13, 17, 30, 16, 19],\n",
              " [13, 31, 7, 17, 19, 30, 16],\n",
              " [13, 30, 16, 7, 31, 19, 17],\n",
              " [31, 17, 30, 7, 16, 19, 13],\n",
              " [31, 17, 13, 19, 16, 7, 30],\n",
              " [13, 31, 19, 17, 7, 30, 16],\n",
              " [31, 17, 19, 13, 7, 30, 16],\n",
              " [13, 30, 7, 16, 19, 17, 31],\n",
              " [17, 31, 7, 30, 19, 16, 13],\n",
              " [19, 31, 7, 17, 13, 16, 30],\n",
              " [19, 17, 7, 13, 16, 31, 30],\n",
              " [16, 13, 31, 19, 17, 30, 7],\n",
              " [17, 31, 19, 30, 16, 7, 13],\n",
              " [31, 19, 30, 17, 13, 7, 16],\n",
              " [16, 17, 31, 7, 30, 19, 13],\n",
              " [31, 17, 19, 16, 7, 30, 13],\n",
              " [31, 16, 19, 30, 13, 17, 7],\n",
              " [7, 16, 30, 31, 13, 19, 17],\n",
              " [17, 30, 19, 16, 13, 7, 31],\n",
              " [30, 17, 13, 31, 7, 19, 16],\n",
              " [17, 19, 31, 30, 7, 13, 16],\n",
              " [19, 17, 7, 31, 13, 30, 16],\n",
              " [30, 31, 13, 16, 17, 7, 19],\n",
              " [13, 19, 16, 17, 7, 30, 31],\n",
              " [17, 30, 7, 13, 16, 31, 19],\n",
              " [30, 7, 19, 13, 31, 16, 17],\n",
              " [17, 19, 30, 16, 7, 31, 13],\n",
              " [19, 17, 16, 31, 30, 13, 7],\n",
              " [13, 31, 30, 19, 16, 17, 7],\n",
              " [30, 17, 7, 13, 31, 19, 16],\n",
              " [31, 16, 30, 13, 17, 19, 7],\n",
              " [17, 19, 31, 16, 13, 7, 30],\n",
              " [31, 30, 17, 13, 7, 16, 19],\n",
              " [7, 31, 13, 16, 17, 30, 19],\n",
              " [31, 7, 13, 16, 19, 17, 30],\n",
              " [16, 31, 19, 13, 7, 17, 30],\n",
              " [16, 7, 13, 17, 19, 30, 31],\n",
              " [19, 30, 7, 31, 16, 17, 13],\n",
              " [31, 30, 16, 13, 17, 19, 7],\n",
              " [30, 19, 16, 13, 31, 7, 17],\n",
              " [16, 19, 13, 31, 30, 7, 17],\n",
              " [13, 31, 19, 30, 16, 7, 17],\n",
              " [13, 16, 31, 17, 19, 7, 30],\n",
              " [31, 16, 19, 30, 7, 17, 13],\n",
              " [17, 16, 30, 31, 19, 7, 13],\n",
              " [30, 19, 17, 16, 13, 31, 7],\n",
              " [16, 13, 19, 7, 30, 17, 31],\n",
              " [16, 13, 17, 19, 31, 7, 30],\n",
              " [30, 16, 17, 19, 31, 7, 13],\n",
              " [19, 7, 13, 17, 16, 31, 30],\n",
              " [30, 31, 17, 19, 7, 13, 16],\n",
              " [19, 31, 13, 17, 16, 7, 30],\n",
              " [16, 17, 7, 30, 13, 31, 19],\n",
              " [17, 16, 31, 30, 7, 13, 19],\n",
              " [31, 7, 16, 19, 17, 13, 30],\n",
              " [13, 7, 17, 16, 31, 19, 30],\n",
              " [16, 13, 19, 17, 7, 30, 31],\n",
              " [7, 31, 19, 30, 13, 16, 17],\n",
              " [16, 30, 7, 31, 17, 13, 19],\n",
              " [7, 16, 17, 31, 30, 19, 13],\n",
              " [16, 31, 13, 17, 19, 30, 7],\n",
              " [30, 16, 13, 7, 19, 17, 31],\n",
              " [16, 31, 13, 19, 17, 7, 30],\n",
              " [7, 17, 19, 30, 13, 16, 31],\n",
              " [17, 30, 13, 7, 16, 19, 31],\n",
              " [17, 7, 19, 13, 31, 30, 16],\n",
              " [7, 13, 19, 16, 30, 17, 31],\n",
              " [17, 30, 16, 19, 7, 13, 31],\n",
              " [19, 30, 13, 7, 16, 31, 17],\n",
              " [30, 31, 7, 17, 13, 19, 16],\n",
              " [19, 31, 30, 13, 7, 16, 17],\n",
              " [7, 31, 30, 13, 16, 19, 17],\n",
              " [17, 19, 31, 30, 13, 7, 16],\n",
              " [16, 7, 17, 13, 30, 31, 19],\n",
              " [31, 30, 7, 19, 16, 17, 13],\n",
              " [7, 17, 13, 31, 19, 16, 30],\n",
              " [17, 31, 13, 30, 7, 16, 19],\n",
              " [31, 13, 16, 17, 30, 7, 19],\n",
              " [31, 13, 7, 19, 16, 17, 30],\n",
              " [19, 30, 16, 31, 17, 7, 13],\n",
              " [16, 7, 30, 31, 17, 19, 13],\n",
              " [7, 13, 16, 17, 19, 30, 31],\n",
              " [16, 19, 17, 31, 30, 13, 7],\n",
              " [31, 7, 17, 16, 19, 30, 13],\n",
              " [30, 7, 16, 13, 31, 17, 19],\n",
              " [19, 16, 31, 7, 30, 13, 17],\n",
              " [13, 17, 30, 19, 7, 16, 31]]"
            ]
          },
          "metadata": {},
          "execution_count": 17
        }
      ]
    },
    {
      "cell_type": "code",
      "source": [
        "EXPECTED_FITNESS_VALUE = 550\n",
        "THRESHOLD = 25"
      ],
      "metadata": {
        "id": "Sl7r39J1OGEl"
      },
      "execution_count": 27,
      "outputs": []
    },
    {
      "cell_type": "code",
      "source": [
        "def find_fitness_of_route(route):\n",
        "  r2x = []\n",
        "  r2y = []\n",
        "  \n",
        "  for i in route:\n",
        "          r2x.append(input_data.iloc[i]['x'])\n",
        "          r2y.append(input_data.iloc[i]['y'])\n",
        "            \n",
        "\n",
        "   \n",
        "  return find_cost(r2x, r2y)\n",
        "  \n",
        "  "
      ],
      "metadata": {
        "id": "xwHLkQxzQd4p"
      },
      "execution_count": 19,
      "outputs": []
    },
    {
      "cell_type": "code",
      "source": [
        "import operator\n",
        "def returnRank(population,depot_location):\n",
        "  fitnessResults = {}\n",
        "  for i in range(0,len(population)):\n",
        "      #print('Route = ',population[i],' cost of path = ',find_fitness_of_route(population[i]))\n",
        "      population[i].insert(0,depot_location)\n",
        "      population[i].append(depot_location)\n",
        "      fitnessResults[i] = find_fitness_of_route(population[i])\n",
        "      population[i].pop(0)\n",
        "      population[i].pop(len(population[i])-1)\n",
        "  return sorted(fitnessResults.items(), key = operator.itemgetter(1), reverse = False)\n",
        "        "
      ],
      "metadata": {
        "id": "oKy5pDj4RHD6"
      },
      "execution_count": 20,
      "outputs": []
    },
    {
      "cell_type": "code",
      "source": [
        "def selection(popRanked, eliteSize):\n",
        "        selectionResults = []\n",
        "        df = pd.DataFrame(np.array(popRanked), columns=[\"Index\",\"Fitness\"])\n",
        "        df['cum_sum'] = df.Fitness.cumsum()\n",
        "        df['cum_perc'] = 100*df.cum_sum/df.Fitness.sum()\n",
        "\n",
        "        for i in range(0, eliteSize):\n",
        "            selectionResults.append(popRanked[i][0])\n",
        "        \n",
        "        return selectionResults"
      ],
      "metadata": {
        "id": "Yel4vMZ01NEk"
      },
      "execution_count": 21,
      "outputs": []
    },
    {
      "cell_type": "code",
      "source": [
        "def nextGeneration(currentGen, eliteSize, mutationRate):\n",
        "        popRanked = returnRank(currentGen,32)\n",
        "        #print(popRanked)\n",
        "        selectionResults = selection(popRanked, eliteSize)\n",
        "        #print(selectionResults)\n",
        "        matingpool = matingPool(currentGen, selectionResults)\n",
        "        # print('matingPool')\n",
        "        # print(matingpool)\n",
        "        children = breedPopulation(matingpool, eliteSize)\n",
        "        nextGeneration = mutatePopulation(children, mutationRate)\n",
        "        return nextGeneration"
      ],
      "metadata": {
        "id": "yyBsRWrx0uSM"
      },
      "execution_count": 22,
      "outputs": []
    },
    {
      "cell_type": "code",
      "source": [
        "def matingPool(population, selectionResults):\n",
        "        matingpool = []\n",
        "        for i in range(0, len(selectionResults)):\n",
        "            index = selectionResults[i]\n",
        "            matingpool.append(population[index])\n",
        "        return matingpool\n",
        "    \n",
        "def breed(parent1, parent2):\n",
        "        child = []\n",
        "        childP1 = []\n",
        "        childP2 = []\n",
        "\n",
        "        geneA = int(random.random() * len(parent1))\n",
        "        geneB = int(random.random() * len(parent1))\n",
        "\n",
        "        startGene = min(geneA, geneB)\n",
        "        endGene = max(geneA, geneB)\n",
        "\n",
        "        for i in range(startGene, endGene):\n",
        "            childP1.append(parent1[i])\n",
        "\n",
        "        childP2 = [item for item in parent2 if item not in childP1]\n",
        "\n",
        "        child = childP1 + childP2\n",
        "        #print('child = ',child)\n",
        "        return child\n",
        "    \n",
        "def breedPopulation(matingpool, eliteSize):\n",
        "        children = []\n",
        "        length = len(matingpool)\n",
        "        pool = random.sample(matingpool, len(matingpool))\n",
        "        # print('pool in breedpopulation')\n",
        "        # print(pool)\n",
        "        for i in range(0,eliteSize):\n",
        "            children.append(matingpool[i])\n",
        "\n",
        "        for i in range(0, length):\n",
        "            child = breed(pool[i], pool[len(matingpool)-i-1])\n",
        "            children.append(child)\n",
        "        return children\n",
        "    \n",
        "def mutate(individual, mutationRate):\n",
        "        for swapped in range(len(individual)):\n",
        "            if(random.random() < mutationRate):\n",
        "                swapWith = int(random.random() * len(individual))\n",
        "\n",
        "                city1 = individual[swapped]\n",
        "                city2 = individual[swapWith]\n",
        "\n",
        "                individual[swapped] = city2\n",
        "                individual[swapWith] = city1\n",
        "        #print('mutated = ',individual)\n",
        "        return individual\n",
        "    \n",
        "\n",
        "\n",
        "def mutatePopulation(population, mutationRate):\n",
        "        mutatedPop = []\n",
        "\n",
        "        for ind in range(0, len(population)):\n",
        "            mutatedInd = mutate(population[ind], mutationRate)\n",
        "            mutatedPop.append(mutatedInd)\n",
        "        return mutatedPop\n"
      ],
      "metadata": {
        "id": "oVuajkqI21Na"
      },
      "execution_count": 23,
      "outputs": []
    },
    {
      "cell_type": "code",
      "source": [
        "def genetic_algorithm(route):\n",
        "  final_pop = None\n",
        "  intial_fitness = find_fitness_of_route(route)\n",
        "  print(intial_fitness)\n",
        "  initial_population = createInitialPopulation(150, route)\n",
        "  #print(initial_population)\n",
        "  # finess_results = returnRank(initial_population)\n",
        "  for i in range(0, 100):\n",
        "    final_pop = nextGeneration(initial_population,25,0.01)\n",
        "  print(find_fitness_of_route(final_pop[0]))\n",
        "  return final_pop\n",
        "\n",
        "#genetic_algorithm([13, 7, 30, 17, 19, 16, 31])\n",
        "\n",
        "  "
      ],
      "metadata": {
        "id": "GFKd9dEjPKRP"
      },
      "execution_count": 24,
      "outputs": []
    },
    {
      "cell_type": "code",
      "source": [
        "capacited_routes"
      ],
      "metadata": {
        "colab": {
          "base_uri": "https://localhost:8080/"
        },
        "id": "SC8oimFcDoAM",
        "outputId": "234a85ed-7159-457b-d692-dd5fcac7072d"
      },
      "execution_count": 25,
      "outputs": [
        {
          "output_type": "execute_result",
          "data": {
            "text/plain": [
              "[[13, 7, 30, 17, 19, 16, 31],\n",
              " [21, 1, 12, 25, 20, 5],\n",
              " [10, 15, 29, 22, 9, 18],\n",
              " [8, 27, 11, 4, 28, 24],\n",
              " [14, 23, 3, 6, 2, 26]]"
            ]
          },
          "metadata": {},
          "execution_count": 25
        }
      ]
    },
    {
      "cell_type": "code",
      "source": [
        "intitial_fitness_for_entire_trip = 0\n",
        "for rt in capacited_routes:\n",
        "  intitial_fitness_for_entire_trip = intitial_fitness_for_entire_trip + find_fitness_of_route(rt)\n",
        "print('Initial fitness for entire trip :',intitial_fitness_for_entire_trip)\n",
        "current_fitness_value = intitial_fitness_for_entire_trip\n",
        "while current_fitness_value - EXPECTED_FITNESS_VALUE > THRESHOLD:\n",
        "  #run genetic algorithm for TSP on individual routes\n",
        "  #combine fitness to get fitness value for entire CVRP\n",
        "  #continue doing so until current_fitness_value is closer to EXPECTED_FITNESS_VALUE\n",
        "  current_fitness_value = 0\n",
        "  for route in capacited_routes:\n",
        "    print('Route = ',route)\n",
        "    final_pop_for_route = genetic_algorithm(route)\n",
        "    current_fitness_value = current_fitness_value + find_fitness_of_route(final_pop_for_route[0])\n",
        "  print('current fitness value = ',current_fitness_value)\n",
        "\n",
        "print('FINAL FITNESS OUTPUT IS  : ', current_fitness_value)\n",
        "    \n",
        "  "
      ],
      "metadata": {
        "colab": {
          "base_uri": "https://localhost:8080/"
        },
        "id": "10Q8pgFfDm2K",
        "outputId": "0b743416-6946-4e34-e0fa-dea2df69a099"
      },
      "execution_count": 28,
      "outputs": [
        {
          "output_type": "stream",
          "name": "stdout",
          "text": [
            "Initial fitness for entire trip : 874.2384485080802\n",
            "Route =  [13, 7, 30, 17, 19, 16, 31]\n",
            "190.90350619939534\n",
            "169.1729923333737\n",
            "Route =  [21, 1, 12, 25, 20, 5]\n",
            "200.61465669502093\n",
            "198.010542231562\n",
            "Route =  [10, 15, 29, 22, 9, 18]\n",
            "91.15630281951888\n",
            "111.52318810938998\n",
            "Route =  [8, 27, 11, 4, 28, 24]\n",
            "222.67654140773834\n",
            "104.38189730822137\n",
            "Route =  [14, 23, 3, 6, 2, 26]\n",
            "168.88744138640664\n",
            "114.95850161782977\n",
            "current fitness value =  698.0471216003768\n",
            "Route =  [13, 7, 30, 17, 19, 16, 31]\n",
            "190.90350619939534\n",
            "93.5088465665687\n",
            "Route =  [21, 1, 12, 25, 20, 5]\n",
            "200.61465669502093\n",
            "176.1901607260515\n",
            "Route =  [10, 15, 29, 22, 9, 18]\n",
            "91.15630281951888\n",
            "103.52692617978171\n",
            "Route =  [8, 27, 11, 4, 28, 24]\n",
            "222.67654140773834\n",
            "106.49587989062131\n",
            "Route =  [14, 23, 3, 6, 2, 26]\n",
            "168.88744138640664\n",
            "85.20535035009613\n",
            "current fitness value =  564.9271637131194\n",
            "FINAL FITNESS OUTPUT IS  :  564.9271637131194\n"
          ]
        }
      ]
    }
  ]
}